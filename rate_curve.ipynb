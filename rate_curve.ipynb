{
 "cells": [
  {
   "cell_type": "code",
   "execution_count": 2,
   "metadata": {},
   "outputs": [],
   "source": [
    "import numpy as np\n",
    "import pandas as pd\n",
    "import matplotlib.pyplot as plt\n",
    "import datetime\n",
    "import requests\n",
    "\n",
    "from bs4 import BeautifulSoup\n",
    "import QuantLib as ql"
   ]
  },
  {
   "cell_type": "code",
   "execution_count": 92,
   "metadata": {},
   "outputs": [],
   "source": [
    "def get_date():\n",
    "    headers = {'User-Agent': 'Mozilla/5.0'}\n",
    "    req = requests.get('https://www.wsj.com/market-data/bonds', headers=headers)\n",
    "    html = req.text\n",
    "    soup = BeautifulSoup(html, 'html.parser')\n",
    "    data = soup.find(\"span\", class_ = \"WSJBase--card__timestamp--3F2HxyAE\")\n",
    "    \n",
    "    # JS path\n",
    "    # document.querySelector(\"#root > div > div > div > div:nth-child(2) > div.style--grid--SxS2So51 > div > div:nth-child(2) > h3 > span.WSJBase--card__timestamp--3F2HxyAE > span\")\n",
    "\n",
    "    date = data.text\n",
    "    date = datetime.datetime.strptime(date, \"%m/%d/%y\").date()\n",
    "    return date\n"
   ]
  },
  {
   "cell_type": "code",
   "execution_count": 95,
   "metadata": {},
   "outputs": [],
   "source": [
    "def get_quote(reference_date):\n",
    "    tenors = ['01M', '03M', '06M', '01Y', '02Y', '03Y','05Y','07Y','10Y','30Y']\n",
    "\n",
    "    # create empty lists\n",
    "    maturities = []\n",
    "    days = []\n",
    "    prices = []\n",
    "    coupons = []\n",
    "    headers = {'User-Agent': 'Mozilla/5.0'}\n",
    "\n",
    "    # get market informations\n",
    "    for i, tenor in enumerate(tenors):\n",
    "        url = \"https://www.wsj.com/market-data/quotes/bond/BX/TMUBMUSD\"+tenor+\"?mod=md_bond_overview_quote\"\n",
    "        req = requests.get(url, headers=headers)\n",
    "        html = req.text\n",
    "        soup = BeautifulSoup(html, 'html.parser')\n",
    "\n",
    "        # Price \n",
    "        data_src = soup.find(\"span\", id=\"quote_val\") \n",
    "        price = data_src.text\n",
    "        price = float(price[:-1])\n",
    "    \n",
    "        data_src2 = soup.find_all(\"span\", class_=\"data_data\")\n",
    "\n",
    "        # Coupon\n",
    "        coupon = data_src2[2].text\n",
    "        if coupon != '':\n",
    "            coupon = float(coupon[:-1])\n",
    "        else:\n",
    "            coupon = 0.0\n",
    "        \n",
    "        # Maturity Date\n",
    "        maturity = data_src2[3].text\n",
    "        maturity = datetime.datetime.strptime(maturity, '%m/%d/%y').date()\n",
    "\n",
    "        # Send to lists\n",
    "        days.append((maturity - reference_date).days)\n",
    "        prices.append(price)\n",
    "        coupons.append(coupon)\n",
    "        maturities.append(maturity)\n",
    "    \n",
    "    # create dataframe\n",
    "    df = pd.DataFrame([maturities, days, prices, coupons]).transpose()\n",
    "    headers = ['maturity', 'days', 'price', 'coupon']\n",
    "    df.columns = headers\n",
    "    df.set_index('maturity', inplace=True)\n",
    "\n",
    "    return df\n"
   ]
  },
  {
   "cell_type": "code",
   "execution_count": 96,
   "metadata": {},
   "outputs": [
    {
     "name": "stdout",
     "output_type": "stream",
     "text": [
      "             days  price coupon\n",
      "maturity                       \n",
      "2022-07-12     28  1.125    0.0\n",
      "2022-09-15     93   1.75    0.0\n",
      "2022-12-15    184  2.337    0.0\n",
      "2023-05-18    338  3.161    0.0\n",
      "2024-05-31    717  3.369    2.5\n",
      "2025-06-15   1097  3.512  2.875\n",
      "2027-05-31   1812   3.52  2.625\n",
      "2029-05-31   2543  3.509   2.75\n",
      "2032-05-15   3623  3.418  2.875\n",
      "2052-05-15  10928  3.389  2.875\n"
     ]
    }
   ],
   "source": [
    "ref_date = get_date()\n",
    "quote = get_quote(ref_date)\n",
    "print(quote)"
   ]
  },
  {
   "cell_type": "code",
   "execution_count": 97,
   "metadata": {},
   "outputs": [],
   "source": [
    "def treasury_curve(date, quote):\n",
    "    # divide quote\n",
    "    # quantlib has differet ways of treating coupon paying and zero coupon bonds\n",
    "    tbill = quote[0:4]\n",
    "    tbond = quote[4:]\n",
    "\n",
    "    # Set evaluation date\n",
    "    eval_date = ql.Date(date.day, date.month, date.year)\n",
    "    ql.Settings.instance().evaluationDate = eval_date\n",
    "\n",
    "    # set market convertions\n",
    "    calendar = ql.UnitedStates()\n",
    "    convention = ql.ModifiedFollowing\n",
    "    day_counter = ql.ActualActual()\n",
    "    end_of_month = True\n",
    "    fixing_days = 1\n",
    "    face_amount = 100\n",
    "    coupon_frequency = ql.Period(ql.Semiannual)\n",
    "\n",
    "    # deposit rate helper\n",
    "    # construct treasury bill(zero coupon) helpers --> DepositRateHelper\n",
    "    bill_helpers = [ql.DepositRateHelper(ql.QuoteHandle(ql.SimpleQuote(r/100.0)),\n",
    "                                        ql.Period(m, ql.Days),\n",
    "                                        fixing_days,\n",
    "                                        calendar,\n",
    "                                        convention,\n",
    "                                        end_of_month,\n",
    "                                        day_counter)\n",
    "                    for r, m in zip(tbill['price'], tbill['days'])\n",
    "                    ]\n",
    "    \n",
    "    # construct treasury bond (coupon) helpers --> FixedRateBondHelper\n",
    "    # additional argument required compared to zero coupon bond\n",
    "    # we need schedule data to valuate coupon\n",
    "    bond_helper = []\n",
    "    for p, c, m in zip(tbond['price'], tbond['coupon'], tbond['days']):\n",
    "        termination_date = eval_date + ql.Period(m, ql.Days)\n",
    "        schedule = ql.Schedule(eval_date,\n",
    "                                termination_date,\n",
    "                                coupon_frequency,\n",
    "                                calendar,\n",
    "                                convention,\n",
    "                                convention,\n",
    "                                ql.DateGeneration.Backward,\n",
    "                                end_of_month\n",
    "                                )\n",
    "        bond_helper = ql.FixedRateBondHelper(ql.QuoteHandle(ql.SimpleQuote(p))\n",
    "                                            fixing_days,\n",
    "                                            face_amont,\n",
    "                                            schedule,\n",
    "                                            [c/100.0],\n",
    "                                            day_counter,\n",
    "                                            convention\n",
    "                                            )\n",
    "        bond_helper.append(bond_helper)\n",
    "\n",
    "        # bind helpers\n",
    "        rate_helpers = bill_helpers + bond_helper\n",
    "\n",
    "        # Build Curve\n",
    "        # Use linear interpolation method (The most simple)\n",
    "        yc_linezero = ql.PiecewiseLinearZero(eval_date, rate_helpers, day_counter)\n",
    "\n",
    "        return yc_linezero"
   ]
  },
  {
   "cell_type": "code",
   "execution_count": 99,
   "metadata": {},
   "outputs": [],
   "source": [
    "def discount_factor(date, curve):\n",
    "    # returns discount factors of each day\n",
    "    # use quantlib date type\n",
    "    date = ql.Date(date.day, date.month, date.year)\n",
    "    return curve.discount(date)"
   ]
  },
  {
   "cell_type": "code",
   "execution_count": 100,
   "metadata": {},
   "outputs": [],
   "source": [
    "def zero_rate(date, curve):\n",
    "    date = ql.Date(date.day, date.month, date.year)\n",
    "    day_counter = ql.ActualActual()\n",
    "    compounding = ql.Compounded\n",
    "    freq = ql.Continuous\n",
    "    zero_rate = curve.zeroRate(date, day_counter, compounding, freq).rate()\n",
    "    return zero_rate"
   ]
  },
  {
   "cell_type": "code",
   "execution_count": 102,
   "metadata": {},
   "outputs": [],
   "source": [
    "ref_date = get_date()\n",
    "quote =get_quote(ref_date)\n",
    "curve = treasury_curve(ref_date, quote)"
   ]
  },
  {
   "cell_type": "code",
   "execution_count": 103,
   "metadata": {},
   "outputs": [
    {
     "ename": "AttributeError",
     "evalue": "'NoneType' object has no attribute 'discount'",
     "output_type": "error",
     "traceback": [
      "\u001b[0;31m---------------------------------------------------------------------------\u001b[0m",
      "\u001b[0;31mAttributeError\u001b[0m                            Traceback (most recent call last)",
      "\u001b[1;32m/mnt/e/workspace/project_FICC/rate_curve.ipynb Cell 9'\u001b[0m in \u001b[0;36m<cell line: 4>\u001b[0;34m()\u001b[0m\n\u001b[1;32m      <a href='vscode-notebook-cell://wsl%2Bubuntu/mnt/e/workspace/project_FICC/rate_curve.ipynb#ch0000020vscode-remote?line=1'>2</a>\u001b[0m quote[\u001b[39m'\u001b[39m\u001b[39mzero rate\u001b[39m\u001b[39m'\u001b[39m] \u001b[39m=\u001b[39m np\u001b[39m.\u001b[39mnan\n\u001b[1;32m      <a href='vscode-notebook-cell://wsl%2Bubuntu/mnt/e/workspace/project_FICC/rate_curve.ipynb#ch0000020vscode-remote?line=3'>4</a>\u001b[0m \u001b[39mfor\u001b[39;00m date \u001b[39min\u001b[39;00m quote\u001b[39m.\u001b[39mindex:\n\u001b[0;32m----> <a href='vscode-notebook-cell://wsl%2Bubuntu/mnt/e/workspace/project_FICC/rate_curve.ipynb#ch0000020vscode-remote?line=4'>5</a>\u001b[0m     quote\u001b[39m.\u001b[39mloc[date, \u001b[39m'\u001b[39m\u001b[39mdiscount factor\u001b[39m\u001b[39m'\u001b[39m] \u001b[39m=\u001b[39m discount_factor(date, curve)\n\u001b[1;32m      <a href='vscode-notebook-cell://wsl%2Bubuntu/mnt/e/workspace/project_FICC/rate_curve.ipynb#ch0000020vscode-remote?line=5'>6</a>\u001b[0m     quote\u001b[39m.\u001b[39mloc[date, \u001b[39m'\u001b[39m\u001b[39mzero rate\u001b[39m\u001b[39m'\u001b[39m] \u001b[39m=\u001b[39m zero_rate(date, curve)\n\u001b[1;32m      <a href='vscode-notebook-cell://wsl%2Bubuntu/mnt/e/workspace/project_FICC/rate_curve.ipynb#ch0000020vscode-remote?line=7'>8</a>\u001b[0m \u001b[39mprint\u001b[39m(quote[[\u001b[39m'\u001b[39m\u001b[39mdiscount factor\u001b[39m\u001b[39m'\u001b[39m, \u001b[39m'\u001b[39m\u001b[39mzero rate\u001b[39m\u001b[39m'\u001b[39m]])\n",
      "\u001b[1;32m/mnt/e/workspace/project_FICC/rate_curve.ipynb Cell 6'\u001b[0m in \u001b[0;36mdiscount_factor\u001b[0;34m(date, curve)\u001b[0m\n\u001b[1;32m      <a href='vscode-notebook-cell://wsl%2Bubuntu/mnt/e/workspace/project_FICC/rate_curve.ipynb#ch0000017vscode-remote?line=0'>1</a>\u001b[0m \u001b[39mdef\u001b[39;00m \u001b[39mdiscount_factor\u001b[39m(date, curve):\n\u001b[1;32m      <a href='vscode-notebook-cell://wsl%2Bubuntu/mnt/e/workspace/project_FICC/rate_curve.ipynb#ch0000017vscode-remote?line=1'>2</a>\u001b[0m     date \u001b[39m=\u001b[39m ql\u001b[39m.\u001b[39mDate(date\u001b[39m.\u001b[39mday, date\u001b[39m.\u001b[39mmonth, date\u001b[39m.\u001b[39myear)\n\u001b[0;32m----> <a href='vscode-notebook-cell://wsl%2Bubuntu/mnt/e/workspace/project_FICC/rate_curve.ipynb#ch0000017vscode-remote?line=2'>3</a>\u001b[0m     \u001b[39mreturn\u001b[39;00m curve\u001b[39m.\u001b[39;49mdiscount(date)\n",
      "\u001b[0;31mAttributeError\u001b[0m: 'NoneType' object has no attribute 'discount'"
     ]
    }
   ],
   "source": [
    "quote['discount factor'] = np.nan\n",
    "quote['zero rate'] = np.nan\n",
    "\n",
    "for date in quote.index:\n",
    "    quote.loc[date, 'discount factor'] = discount_factor(date, curve)\n",
    "    quote.loc[date, 'zero rate'] = zero_rate(date, curve)\n",
    "\n",
    "print(quote[['discount factor', 'zero rate']])"
   ]
  },
  {
   "cell_type": "code",
   "execution_count": 106,
   "metadata": {},
   "outputs": [
    {
     "ename": "KeyError",
     "evalue": "('discount factor', 'r.-')",
     "output_type": "error",
     "traceback": [
      "\u001b[0;31m---------------------------------------------------------------------------\u001b[0m",
      "\u001b[0;31mKeyError\u001b[0m                                  Traceback (most recent call last)",
      "File \u001b[0;32m~/.local/lib/python3.8/site-packages/pandas/core/indexes/base.py:3361\u001b[0m, in \u001b[0;36mIndex.get_loc\u001b[0;34m(self, key, method, tolerance)\u001b[0m\n\u001b[1;32m   <a href='file:///home/dahamkim/.local/lib/python3.8/site-packages/pandas/core/indexes/base.py?line=3359'>3360</a>\u001b[0m \u001b[39mtry\u001b[39;00m:\n\u001b[0;32m-> <a href='file:///home/dahamkim/.local/lib/python3.8/site-packages/pandas/core/indexes/base.py?line=3360'>3361</a>\u001b[0m     \u001b[39mreturn\u001b[39;00m \u001b[39mself\u001b[39;49m\u001b[39m.\u001b[39;49m_engine\u001b[39m.\u001b[39;49mget_loc(casted_key)\n\u001b[1;32m   <a href='file:///home/dahamkim/.local/lib/python3.8/site-packages/pandas/core/indexes/base.py?line=3361'>3362</a>\u001b[0m \u001b[39mexcept\u001b[39;00m \u001b[39mKeyError\u001b[39;00m \u001b[39mas\u001b[39;00m err:\n",
      "File \u001b[0;32m~/.local/lib/python3.8/site-packages/pandas/_libs/index.pyx:76\u001b[0m, in \u001b[0;36mpandas._libs.index.IndexEngine.get_loc\u001b[0;34m()\u001b[0m\n",
      "File \u001b[0;32m~/.local/lib/python3.8/site-packages/pandas/_libs/index.pyx:108\u001b[0m, in \u001b[0;36mpandas._libs.index.IndexEngine.get_loc\u001b[0;34m()\u001b[0m\n",
      "File \u001b[0;32mpandas/_libs/hashtable_class_helper.pxi:5198\u001b[0m, in \u001b[0;36mpandas._libs.hashtable.PyObjectHashTable.get_item\u001b[0;34m()\u001b[0m\n",
      "File \u001b[0;32mpandas/_libs/hashtable_class_helper.pxi:5206\u001b[0m, in \u001b[0;36mpandas._libs.hashtable.PyObjectHashTable.get_item\u001b[0;34m()\u001b[0m\n",
      "\u001b[0;31mKeyError\u001b[0m: ('discount factor', 'r.-')",
      "\nThe above exception was the direct cause of the following exception:\n",
      "\u001b[0;31mKeyError\u001b[0m                                  Traceback (most recent call last)",
      "\u001b[1;32m/mnt/e/workspace/project_FICC/rate_curve.ipynb Cell 10'\u001b[0m in \u001b[0;36m<cell line: 8>\u001b[0;34m()\u001b[0m\n\u001b[1;32m      <a href='vscode-notebook-cell://wsl%2Bubuntu/mnt/e/workspace/project_FICC/rate_curve.ipynb#ch0000021vscode-remote?line=4'>5</a>\u001b[0m plt\u001b[39m.\u001b[39mylabel(\u001b[39m'\u001b[39m\u001b[39mzero rate\u001b[39m\u001b[39m'\u001b[39m)\n\u001b[1;32m      <a href='vscode-notebook-cell://wsl%2Bubuntu/mnt/e/workspace/project_FICC/rate_curve.ipynb#ch0000021vscode-remote?line=6'>7</a>\u001b[0m plt\u001b[39m.\u001b[39mfigure(figsize\u001b[39m=\u001b[39m(\u001b[39m16\u001b[39m,\u001b[39m8\u001b[39m))\n\u001b[0;32m----> <a href='vscode-notebook-cell://wsl%2Bubuntu/mnt/e/workspace/project_FICC/rate_curve.ipynb#ch0000021vscode-remote?line=7'>8</a>\u001b[0m plt\u001b[39m.\u001b[39mplot(quote[\u001b[39m'\u001b[39;49m\u001b[39mdiscount factor\u001b[39;49m\u001b[39m'\u001b[39;49m, \u001b[39m'\u001b[39;49m\u001b[39mr.-\u001b[39;49m\u001b[39m'\u001b[39;49m])\n\u001b[1;32m      <a href='vscode-notebook-cell://wsl%2Bubuntu/mnt/e/workspace/project_FICC/rate_curve.ipynb#ch0000021vscode-remote?line=8'>9</a>\u001b[0m plt\u001b[39m.\u001b[39mtitle(\u001b[39m'\u001b[39m\u001b[39mdiscount curve\u001b[39m\u001b[39m'\u001b[39m, loc\u001b[39m=\u001b[39m\u001b[39m'\u001b[39m\u001b[39mcenter\u001b[39m\u001b[39m'\u001b[39m)\n\u001b[1;32m     <a href='vscode-notebook-cell://wsl%2Bubuntu/mnt/e/workspace/project_FICC/rate_curve.ipynb#ch0000021vscode-remote?line=9'>10</a>\u001b[0m plt\u001b[39m.\u001b[39mxlabel(\u001b[39m'\u001b[39m\u001b[39mmaturity\u001b[39m\u001b[39m'\u001b[39m)\n",
      "File \u001b[0;32m~/.local/lib/python3.8/site-packages/pandas/core/frame.py:3458\u001b[0m, in \u001b[0;36mDataFrame.__getitem__\u001b[0;34m(self, key)\u001b[0m\n\u001b[1;32m   <a href='file:///home/dahamkim/.local/lib/python3.8/site-packages/pandas/core/frame.py?line=3455'>3456</a>\u001b[0m \u001b[39mif\u001b[39;00m \u001b[39mself\u001b[39m\u001b[39m.\u001b[39mcolumns\u001b[39m.\u001b[39mnlevels \u001b[39m>\u001b[39m \u001b[39m1\u001b[39m:\n\u001b[1;32m   <a href='file:///home/dahamkim/.local/lib/python3.8/site-packages/pandas/core/frame.py?line=3456'>3457</a>\u001b[0m     \u001b[39mreturn\u001b[39;00m \u001b[39mself\u001b[39m\u001b[39m.\u001b[39m_getitem_multilevel(key)\n\u001b[0;32m-> <a href='file:///home/dahamkim/.local/lib/python3.8/site-packages/pandas/core/frame.py?line=3457'>3458</a>\u001b[0m indexer \u001b[39m=\u001b[39m \u001b[39mself\u001b[39;49m\u001b[39m.\u001b[39;49mcolumns\u001b[39m.\u001b[39;49mget_loc(key)\n\u001b[1;32m   <a href='file:///home/dahamkim/.local/lib/python3.8/site-packages/pandas/core/frame.py?line=3458'>3459</a>\u001b[0m \u001b[39mif\u001b[39;00m is_integer(indexer):\n\u001b[1;32m   <a href='file:///home/dahamkim/.local/lib/python3.8/site-packages/pandas/core/frame.py?line=3459'>3460</a>\u001b[0m     indexer \u001b[39m=\u001b[39m [indexer]\n",
      "File \u001b[0;32m~/.local/lib/python3.8/site-packages/pandas/core/indexes/base.py:3363\u001b[0m, in \u001b[0;36mIndex.get_loc\u001b[0;34m(self, key, method, tolerance)\u001b[0m\n\u001b[1;32m   <a href='file:///home/dahamkim/.local/lib/python3.8/site-packages/pandas/core/indexes/base.py?line=3360'>3361</a>\u001b[0m         \u001b[39mreturn\u001b[39;00m \u001b[39mself\u001b[39m\u001b[39m.\u001b[39m_engine\u001b[39m.\u001b[39mget_loc(casted_key)\n\u001b[1;32m   <a href='file:///home/dahamkim/.local/lib/python3.8/site-packages/pandas/core/indexes/base.py?line=3361'>3362</a>\u001b[0m     \u001b[39mexcept\u001b[39;00m \u001b[39mKeyError\u001b[39;00m \u001b[39mas\u001b[39;00m err:\n\u001b[0;32m-> <a href='file:///home/dahamkim/.local/lib/python3.8/site-packages/pandas/core/indexes/base.py?line=3362'>3363</a>\u001b[0m         \u001b[39mraise\u001b[39;00m \u001b[39mKeyError\u001b[39;00m(key) \u001b[39mfrom\u001b[39;00m \u001b[39merr\u001b[39;00m\n\u001b[1;32m   <a href='file:///home/dahamkim/.local/lib/python3.8/site-packages/pandas/core/indexes/base.py?line=3364'>3365</a>\u001b[0m \u001b[39mif\u001b[39;00m is_scalar(key) \u001b[39mand\u001b[39;00m isna(key) \u001b[39mand\u001b[39;00m \u001b[39mnot\u001b[39;00m \u001b[39mself\u001b[39m\u001b[39m.\u001b[39mhasnans:\n\u001b[1;32m   <a href='file:///home/dahamkim/.local/lib/python3.8/site-packages/pandas/core/indexes/base.py?line=3365'>3366</a>\u001b[0m     \u001b[39mraise\u001b[39;00m \u001b[39mKeyError\u001b[39;00m(key)\n",
      "\u001b[0;31mKeyError\u001b[0m: ('discount factor', 'r.-')"
     ]
    },
    {
     "data": {
      "image/png": "[encoded data removed]",
      "text/plain": [
       "<Figure size 1152x576 with 1 Axes>"
      ]
     },
     "metadata": {
      "needs_background": "light"
     },
     "output_type": "display_data"
    },
    {
     "data": {
      "text/plain": [
       "<Figure size 1152x576 with 0 Axes>"
      ]
     },
     "metadata": {},
     "output_type": "display_data"
    }
   ],
   "source": [
    "plt.figure(figsize=(16,8))\n",
    "plt.plot(quote['zero rate'], 'b-')\n",
    "plt.title('zero curve', loc='center')\n",
    "plt.xlabel('maturity')\n",
    "plt.ylabel('zero rate')\n",
    "\n",
    "plt.figure(figsize=(16,8))\n",
    "plt.plot(quote['discount factor', 'r.-'])\n",
    "plt.title('discount curve', loc='center')\n",
    "plt.xlabel('maturity')\n",
    "plt.ylabel('discount factor')"
   ]
  },
  {
   "cell_type": "code",
   "execution_count": null,
   "metadata": {},
   "outputs": [],
   "source": []
  }
 ],
 "metadata": {
  "kernelspec": {
   "display_name": "quant",
   "language": "python",
   "name": "quant"
  },
  "language_info": {
   "codemirror_mode": {
    "name": "ipython",
    "version": 3
   },
   "file_extension": ".py",
   "mimetype": "text/x-python",
   "name": "python",
   "nbconvert_exporter": "python",
   "pygments_lexer": "ipython3",
   "version": "3.8.10"
  },
  "orig_nbformat": 4
 },
 "nbformat": 4,
 "nbformat_minor": 2
}
