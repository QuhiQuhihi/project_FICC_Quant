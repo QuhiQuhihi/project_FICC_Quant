{
 "cells": [
  {
   "cell_type": "code",
   "execution_count": 1,
   "metadata": {},
   "outputs": [],
   "source": [
    "import numpy as np\n",
    "import pandas as pd\n",
    "import matplotlib.pyplot as plt\n",
    "import datetime\n",
    "import requests\n",
    "\n",
    "from bs4 import BeautifulSoup\n",
    "import QuantLib as ql"
   ]
  },
  {
   "cell_type": "code",
   "execution_count": 2,
   "metadata": {},
   "outputs": [],
   "source": [
    "def get_date():\n",
    "    headers = {'User-Agent': 'Mozilla/5.0'}\n",
    "    req = requests.get('https://www.wsj.com/market-data/bonds', headers=headers)\n",
    "    html = req.text\n",
    "    soup = BeautifulSoup(html, 'html.parser')\n",
    "    data = soup.find(\"span\", class_ = \"WSJBase--card__timestamp--3F2HxyAE\")\n",
    "    \n",
    "    # JS path\n",
    "    # document.querySelector(\"#root > div > div > div > div:nth-child(2) > div.style--grid--SxS2So51 > div > div:nth-child(2) > h3 > span.WSJBase--card__timestamp--3F2HxyAE > span\")\n",
    "\n",
    "    date = data.text\n",
    "    date = datetime.datetime.strptime(date, \"%m/%d/%y\").date()\n",
    "    return date\n"
   ]
  },
  {
   "cell_type": "code",
   "execution_count": 34,
   "metadata": {},
   "outputs": [],
   "source": [
    "def get_quote(reference_date):\n",
    "    tenors = ['01M', '03M', '06M', '01Y', '02Y', '03Y','05Y','07Y','10Y','30Y']\n",
    "\n",
    "    # create empty lists\n",
    "    maturities = []\n",
    "    days = []\n",
    "    prices = []\n",
    "    coupons = []\n",
    "    headers = {'User-Agent': 'Mozilla/5.0'}\n",
    "\n",
    "    # get market informations\n",
    "    for i, tenor in enumerate(tenors):\n",
    "        url = \"https://www.wsj.com/market-data/quotes/bond/BX/TMUBMUSD\"+tenor+\"?mod=md_bond_overview_quote\"\n",
    "        req = requests.get(url, headers=headers)\n",
    "        html = req.text\n",
    "        soup = BeautifulSoup(html, 'html.parser')\n",
    "\n",
    "        # Price \n",
    "        data_src = soup.find(\"span\", id=\"quote_val\") \n",
    "        price = data_src.text\n",
    "        price = float(price[:-1])\n",
    "    \n",
    "        data_src2 = soup.find_all(\"span\", class_=\"data_data\")\n",
    "\n",
    "        # Coupon\n",
    "        coupon = data_src2[2].text\n",
    "        if coupon != '':\n",
    "            coupon = float(coupon[:-1])\n",
    "        else:\n",
    "            coupon = 0.0\n",
    "        \n",
    "        # Maturity Date\n",
    "        maturity = data_src2[3].text\n",
    "        maturity = datetime.datetime.strptime(maturity, '%m/%d/%y').date()\n",
    "\n",
    "        # Send to lists\n",
    "        days.append((maturity - reference_date).days)\n",
    "        prices.append(price)\n",
    "        coupons.append(coupon)\n",
    "        maturities.append(maturity)\n",
    "    \n",
    "    # create dataframe\n",
    "    df = pd.DataFrame([maturities, days, prices, coupons]).transpose()\n",
    "    headers = ['maturity', 'days', 'price', 'coupon']\n",
    "    df.columns = headers\n",
    "    df.set_index('maturity', inplace=True)\n",
    "\n",
    "    return df\n"
   ]
  },
  {
   "cell_type": "code",
   "execution_count": 120,
   "metadata": {},
   "outputs": [],
   "source": [
    "def treasury_curve(date, quote):\n",
    "    \n",
    "    # Divide Quotes\n",
    "    tbill = quote[0:4]\n",
    "    tbond = quote[4:]\n",
    "    \n",
    "    # Set Evaluation Date\n",
    "    eval_date = ql.Date(date.day, date.month, date.year)\n",
    "    ql.Settings.instance().evaluationDate = eval_date\n",
    "    \n",
    "    # Set Market Conventions\n",
    "    calendar = ql.UnitedStates()\n",
    "    convention = ql.ModifiedFollowing\n",
    "    day_counter = ql.ActualActual()\n",
    "    end_of_month = False\n",
    "    fixing_days = 1\n",
    "    face_amount = 100\n",
    "    coupon_frequency = ql.Period(ql.Semiannual)\n",
    "    \n",
    "    # Construct Treasury Bill Helpers\n",
    "    bill_helpers = [ql.DepositRateHelper(ql.QuoteHandle(ql.SimpleQuote(r/100.0)),\n",
    "                                         ql.Period(m, ql.Days),\n",
    "                                         fixing_days,\n",
    "                                         calendar,\n",
    "                                         convention,\n",
    "                                         end_of_month,\n",
    "                                         day_counter)\n",
    "                    for r, m in zip(tbill['price'], tbill['days'])]\n",
    "    \n",
    "    # Construct Treasury Bond Helpers\n",
    "    bond_helpers = []\n",
    "    for p, c, m in zip(tbond['price'], tbond['coupon'], tbond['days']):\n",
    "        termination_date = eval_date + ql.Period(m, ql.Days)\n",
    "        schedule = ql.Schedule(eval_date,\n",
    "                               termination_date,\n",
    "                               coupon_frequency,\n",
    "                               calendar,\n",
    "                               convention,\n",
    "                               convention,\n",
    "                               ql.DateGeneration.Backward,\n",
    "                               end_of_month)\n",
    "        bond_helper = ql.FixedRateBondHelper(ql.QuoteHandle(ql.SimpleQuote(100)),\n",
    "                                             fixing_days,\n",
    "                                             face_amount,\n",
    "                                             schedule,\n",
    "                                             [c/100.0],\n",
    "                                             day_counter,\n",
    "                                             convention)\n",
    "        bond_helpers.append(bond_helper)\n",
    "    \n",
    "    # Bind Helpers\n",
    "    rate_helper = bill_helpers + bond_helpers\n",
    "    \n",
    "    # Build Curve\n",
    "    yc_linearzero = ql.PiecewiseLinearZero(eval_date, rate_helper, day_counter)\n",
    "    \n",
    "    return yc_linearzero"
   ]
  },
  {
   "cell_type": "code",
   "execution_count": 121,
   "metadata": {},
   "outputs": [],
   "source": [
    "def discount_factor(date, curve):\n",
    "    # returns discount factors of each day\n",
    "    # use quantlib date type\n",
    "    print(date)\n",
    "    date = ql.Date(date.day, date.month, date.year)\n",
    "    return curve.discount(date)"
   ]
  },
  {
   "cell_type": "code",
   "execution_count": 122,
   "metadata": {},
   "outputs": [],
   "source": [
    "def zero_rate(date, curve):\n",
    "    date = ql.Date(date.day, date.month, date.year)\n",
    "    day_counter = ql.ActualActual()\n",
    "    compounding = ql.Compounded\n",
    "    freq = ql.Continuous\n",
    "    zero_rate = curve.zeroRate(date, day_counter, compounding, freq).rate()\n",
    "    return zero_rate"
   ]
  },
  {
   "cell_type": "code",
   "execution_count": 123,
   "metadata": {},
   "outputs": [
    {
     "name": "stdout",
     "output_type": "stream",
     "text": [
      "             days  price coupon\n",
      "maturity                       \n",
      "2022-07-26     26  1.025    0.0\n",
      "2022-09-29     91   1.71    0.0\n",
      "2022-12-29    182  2.445    0.0\n",
      "2023-06-15    350  2.841    0.0\n",
      "2024-06-30    731  3.057    3.0\n",
      "2025-06-15   1081  3.126  2.875\n",
      "2027-06-30   1826  3.158   3.25\n",
      "2029-06-30   2557   3.18   3.25\n",
      "2032-05-15   3607  3.105  2.875\n",
      "2052-05-15  10912  3.225  2.875\n"
     ]
    }
   ],
   "source": [
    "ref_date = get_date()\n",
    "quote = get_quote(ref_date)\n",
    "print(quote)"
   ]
  },
  {
   "cell_type": "code",
   "execution_count": 124,
   "metadata": {},
   "outputs": [],
   "source": [
    "curve = treasury_curve(ref_date, quote)"
   ]
  },
  {
   "cell_type": "code",
   "execution_count": 126,
   "metadata": {},
   "outputs": [
    {
     "name": "stdout",
     "output_type": "stream",
     "text": [
      "2023-06-15\n"
     ]
    },
    {
     "data": {
      "text/plain": [
       "0.9735481648804584"
      ]
     },
     "execution_count": 126,
     "metadata": {},
     "output_type": "execute_result"
    }
   ],
   "source": [
    "discount_factor(quote.index[3], curve)"
   ]
  },
  {
   "cell_type": "code",
   "execution_count": 127,
   "metadata": {},
   "outputs": [
    {
     "name": "stdout",
     "output_type": "stream",
     "text": [
      "2022-07-26\n",
      "2022-09-29\n",
      "2022-12-29\n",
      "2023-06-15\n",
      "2024-06-30\n",
      "2025-06-15\n",
      "2027-06-30\n",
      "2029-06-30\n",
      "2032-05-15\n",
      "2052-05-15\n",
      "            discount factor  zero rate\n",
      "maturity                              \n",
      "2022-07-26         0.999271   0.010271\n",
      "2022-09-29         0.995805   0.016931\n",
      "2022-12-29         0.988032   0.024292\n",
      "2023-06-15         0.973548   0.028153\n",
      "2024-06-30         0.942128   0.030009\n",
      "2025-06-15         0.919057   0.028731\n",
      "2027-06-30         0.850354   0.032685\n",
      "2029-06-30         0.797277   0.032628\n",
      "2032-05-15         0.756733   0.028425\n",
      "2052-05-15         0.427408   0.028655\n"
     ]
    }
   ],
   "source": [
    "quote['discount factor'] = np.nan\n",
    "quote['zero rate'] = np.nan\n",
    "\n",
    "for date in quote.index:\n",
    "    quote.loc[date, 'discount factor'] = discount_factor(date, curve)\n",
    "    quote.loc[date, 'zero rate'] = zero_rate(date, curve)\n",
    "\n",
    "print(quote[['discount factor', 'zero rate']])"
   ]
  },
  {
   "cell_type": "code",
   "execution_count": 131,
   "metadata": {},
   "outputs": [
    {
     "data": {
      "text/plain": [
       "Text(0, 0.5, 'discount factor')"
      ]
     },
     "execution_count": 131,
     "metadata": {},
     "output_type": "execute_result"
    },
    {
     "data": {
      "image/png": "[encoded data removed]",
      "text/plain": [
       "<Figure size 1152x576 with 1 Axes>"
      ]
     },
     "metadata": {
      "needs_background": "light"
     },
     "output_type": "display_data"
    },
    {
     "data": {
      "image/png": "[encoded data removed]",
      "text/plain": [
       "<Figure size 1152x576 with 1 Axes>"
      ]
     },
     "metadata": {
      "needs_background": "light"
     },
     "output_type": "display_data"
    }
   ],
   "source": [
    "plt.figure(figsize=(16,8))\n",
    "plt.plot(quote['zero rate'], 'b-')\n",
    "plt.title('zero curve', loc='center')\n",
    "plt.xlabel('maturity')\n",
    "plt.ylabel('zero rate')\n",
    "\n",
    "plt.figure(figsize=(16,8))\n",
    "plt.plot(quote['discount factor'], 'r-')\n",
    "plt.title('discount curve', loc='center')\n",
    "plt.xlabel('maturity')\n",
    "plt.ylabel('discount factor')"
   ]
  },
  {
   "cell_type": "code",
   "execution_count": null,
   "metadata": {},
   "outputs": [],
   "source": []
  }
 ],
 "metadata": {
  "kernelspec": {
   "display_name": "quant",
   "language": "python",
   "name": "quant"
  },
  "language_info": {
   "codemirror_mode": {
    "name": "ipython",
    "version": 3
   },
   "file_extension": ".py",
   "mimetype": "text/x-python",
   "name": "python",
   "nbconvert_exporter": "python",
   "pygments_lexer": "ipython3",
   "version": "3.8.10"
  },
  "orig_nbformat": 4
 },
 "nbformat": 4,
 "nbformat_minor": 2
}
