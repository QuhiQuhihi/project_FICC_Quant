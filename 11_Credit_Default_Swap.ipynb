{
 "cells": [
  {
   "cell_type": "code",
   "execution_count": 1,
   "metadata": {},
   "outputs": [],
   "source": [
    "import os\n",
    "import datetime\n",
    "import numpy as np\n",
    "import pandas as pd\n",
    "\n",
    "import QuantLib as ql"
   ]
  },
  {
   "cell_type": "code",
   "execution_count": 2,
   "metadata": {},
   "outputs": [],
   "source": [
    "from quant_lib.cds_curve import get_irs_quote, get_cds_quote, swap_curve, cds_curve"
   ]
  },
  {
   "cell_type": "code",
   "execution_count": 3,
   "metadata": {},
   "outputs": [],
   "source": [
    "class CDS():\n",
    "    def __init__(self, today, maturity_date, spread, recovery, notional, position):\n",
    "        \n",
    "        # initial setup\n",
    "        self.date = today\n",
    "        self.discount_curve_t0 = self.discount_curve(self.date)\n",
    "        self.cds_curve_t0 = self.cds_curve(self.date)\n",
    "\n",
    "        self.maturity_date = ql.Date(maturity_date.day, maturity_date.month, maturity_date.year)\n",
    "\n",
    "        if position == 'long':\n",
    "            self.position = ql.Protection.Buyer\n",
    "        else:\n",
    "            self.position = ql.Protection.Seller\n",
    "\n",
    "        self.spread = spread\n",
    "        self.notional = notional\n",
    "        self.recovery_rate = recovery\n",
    "\n",
    "        self.tenor = ql.Period(3, ql.Months)\n",
    "        self.calendar =  ql.UnitedStates()\n",
    "        self.convention = ql.ModifiedFollowing\n",
    "        self.dateGeneration = ql.DateGeneration.CDS\n",
    "        self.dayCount = ql.Actual360()\n",
    "        self.endOfMonth = False\n",
    "\n",
    "        # pricing result\n",
    "        self.npv = self.pricing(self.discount_curve_t0, self.cds_curve_t0)\n",
    "        self.ir_delta = self.ir_delta()\n",
    "        self.credit_delta = self.credit_delta()\n",
    "        self.theta = self.theta()\n",
    "\n",
    "    def discount_curve(self, date):\n",
    "        return swap_curve(date, get_irs_quote(date))\n",
    "    \n",
    "    def cds_curve(self, date):\n",
    "        return cds_curve(date, get_cds_quote(date), swap_curve(date, get_irs_quote(date)))\n",
    "    \n",
    "    def pricing(self, discount_curve, cds_curve):\n",
    "        # processing\n",
    "        todays_date = ql.Date(self.date.day, self.date.month, self.date.year)\n",
    "        discount_curve_handle = ql.YieldTermStructureHandle(discount_curve)\n",
    "\n",
    "        schedule = ql.Schedule(todays_date,\n",
    "                                self.maturity_date,\n",
    "                                self.tenor,\n",
    "                                self.calendar,\n",
    "                                self.convention,\n",
    "                                self.convention,\n",
    "                                self.dateGeneration,\n",
    "                                self.endOfMonth\n",
    "                            )\n",
    "\n",
    "        cds = ql.CreditDefaultSwap(self.position,\n",
    "                                   self.notional,\n",
    "                                   self.spread/1000,\n",
    "                                   schedule,\n",
    "                                   self.convention,\n",
    "                                   self.dayCount\n",
    "                                    )\n",
    "        \n",
    "        probability = ql.DefaultProbabilityTermStructureHandle(cds_curve)\n",
    "\n",
    "        engine = ql.MidPointCdsEngine(probability=probability,\n",
    "                                      recoveryRate=self.recovery_rate,\n",
    "                                      discountCurve=discount_curve_handle\n",
    "                                    )\n",
    "        \n",
    "        cds.setPricingEngine(engine)\n",
    "        \n",
    "        npv = cds.NPV()\n",
    "\n",
    "        return npv\n",
    "    \n",
    "    def ir_delta(self):\n",
    "        curve_handle = ql.YieldTermStructureHandle(self.discount_curve_t0)\n",
    "\n",
    "        # 1bp\n",
    "        basis_point = 0.0001\n",
    "\n",
    "        # CDS price when 1bp up\n",
    "        up_curve = ql.ZeroSpreadedTermStructure(curve_handle, ql.QuoteHandle(ql.SimpleQuote(basis_point)))\n",
    "        up_cds = self.pricing(up_curve, self.cds_curve_t0)\n",
    "\n",
    "        # CDS price when 1bp down\n",
    "        down_curve = ql.ZeroSpreadedTermStructure(curve_handle, ql.QuoteHandle(ql.SimpleQuote(-basis_point)))\n",
    "        down_cds = self.pricing(down_curve, self.cds_curve_t0)\n",
    "\n",
    "        # interest rate delta\n",
    "        return (up_cds - down_cds) / 2\n",
    "    \n",
    "    def credit_delta(self):\n",
    "        _cds_quote = get_cds_quote(self.date)\n",
    "\n",
    "        # CDS price when 1bp up\n",
    "        _cds_quote['Market.Mid'] += 1\n",
    "        up_curve = cds_curve(self.date, _cds_quote, self.discount_curve_t0)\n",
    "        up_cds = self.pricing(self.discount_curve_t0, up_curve)\n",
    "\n",
    "        # CDS price when 1bp down\n",
    "        _cds_quote['Market.Mid'] -= 1\n",
    "        down_curve = cds_curve(self.date, _cds_quote, self.discount_curve_t0)\n",
    "        down_cds = self.pricing(self.discount_curve_t0, down_curve)\n",
    "\n",
    "        # credit delta\n",
    "        return (up_cds - down_cds) / 2\n",
    "\n",
    "    def theta(self):\n",
    "        price_t0 = self.pricing(self.discount_curve_t0, self.cds_curve_t0)\n",
    "\n",
    "        discount_curve_t1 = self.discount_curve(self.date + datetime.timedelta(days=1))\n",
    "        cds_curve_t1 = self.cds_curve(self.date + datetime.timedelta(days=1))\n",
    "        price_t1 = self.pricing(discount_curve=discount_curve_t1, cds_curve=cds_curve_t1)\n",
    "\n",
    "        theta = price_t1 - price_t0\n",
    "\n",
    "        return theta\n"
   ]
  },
  {
   "cell_type": "code",
   "execution_count": 4,
   "metadata": {},
   "outputs": [],
   "source": [
    "todays_date = datetime.date(2020, 12, 11)\n",
    "maturity_date = datetime.date(2025, 12, 11)\n",
    "\n",
    "notional = 10000000\n",
    "spread = 20.5241\n",
    "recovery = 0.4\n",
    "position = 'short'\n"
   ]
  },
  {
   "cell_type": "code",
   "execution_count": 5,
   "metadata": {},
   "outputs": [],
   "source": [
    "# build CCS object\n",
    "cds = CDS(\n",
    "        today=todays_date,\n",
    "        maturity_date=maturity_date,\n",
    "        spread=spread,\n",
    "        recovery=0.4,\n",
    "        notional=notional,\n",
    "        position=position\n",
    "        )"
   ]
  },
  {
   "cell_type": "code",
   "execution_count": 6,
   "metadata": {},
   "outputs": [
    {
     "name": "stdout",
     "output_type": "stream",
     "text": [
      "price of CDS = 964810.2233\n",
      "IR Delta = -236.2413\n",
      "Credit Delta = -2693.3063\n",
      "Theta = 75.4122\n"
     ]
    }
   ],
   "source": [
    "print(\"price of CDS = {}\".format(round(cds.npv,4)))\n",
    "print(\"IR Delta = {}\".format(round(cds.ir_delta,4)))\n",
    "\n",
    "\n",
    "print(\"Credit Delta = {}\".format(round(cds.credit_delta,4)))\n",
    "print(\"Theta = {}\".format(round(cds.theta,4)))"
   ]
  }
 ],
 "metadata": {
  "kernelspec": {
   "display_name": "Python 3.8.13 ('ficc')",
   "language": "python",
   "name": "python3"
  },
  "language_info": {
   "codemirror_mode": {
    "name": "ipython",
    "version": 3
   },
   "file_extension": ".py",
   "mimetype": "text/x-python",
   "name": "python",
   "nbconvert_exporter": "python",
   "pygments_lexer": "ipython3",
   "version": "3.8.13"
  },
  "orig_nbformat": 4,
  "vscode": {
   "interpreter": {
    "hash": "83e67ead297887cf4681aabdd4139a58e8981f88e12ca615f7aa3bb29e6223c9"
   }
  }
 },
 "nbformat": 4,
 "nbformat_minor": 2
}
