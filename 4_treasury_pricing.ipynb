{
 "cells": [
  {
   "cell_type": "code",
   "execution_count": 10,
   "metadata": {},
   "outputs": [],
   "source": [
    "import numpy as np\n",
    "import pandas as pd\n",
    "import matplotlib.pyplot as plt\n",
    "import datetime\n",
    "import requests\n",
    "\n",
    "from bs4 import BeautifulSoup\n",
    "import QuantLib as ql"
   ]
  },
  {
   "cell_type": "code",
   "execution_count": 11,
   "metadata": {},
   "outputs": [],
   "source": [
    "from quant_lib import curve as cv"
   ]
  },
  {
   "cell_type": "code",
   "execution_count": 7,
   "metadata": {},
   "outputs": [
    {
     "name": "stdout",
     "output_type": "stream",
     "text": [
      "             days  price coupon\n",
      "maturity                       \n",
      "2022-10-25     26  2.573    0.0\n",
      "2022-12-29     91  3.301    0.0\n",
      "2023-03-30    182  3.914    0.0\n",
      "2023-09-07    343  3.805    0.0\n",
      "2024-09-30    732  4.188   4.25\n",
      "2025-09-15   1082  4.199    3.5\n",
      "2027-09-30   1827  3.991  4.125\n",
      "2029-09-30   2558   3.89  3.875\n",
      "2032-08-15   3608  3.753   2.75\n",
      "2052-08-15  10913  3.694    3.0\n"
     ]
    }
   ],
   "source": [
    "ref_date = cv.get_date()\n",
    "quote = cv.get_quote(ref_date)\n",
    "print(quote)\n",
    "curve = cv.treasury_curve(ref_date, quote)"
   ]
  },
  {
   "cell_type": "code",
   "execution_count": 12,
   "metadata": {},
   "outputs": [],
   "source": [
    "# Convert into Engine\n",
    "spotCurveHandle=ql.YieldTermStructureHandle(curve)\n",
    "bondEngine=ql.DiscountingBondEngine(spotCurveHandle)"
   ]
  },
  {
   "cell_type": "code",
   "execution_count": 13,
   "metadata": {},
   "outputs": [],
   "source": [
    "# pricing treasury bond with FixedRateBond() method\n",
    "# Treasury Bond Specification\n",
    "from calendar import calendar\n",
    "from sqlite3 import Date\n",
    "\n",
    "\n",
    "issueDate=ql.Date(30,9,2022)\n",
    "maturityDate=ql.Date(15,8,2032)\n",
    "tenor=ql.Period(ql.Semiannual)\n",
    "calendar=ql.UnitedStates()\n",
    "convention=ql.ModifiedFollowing\n",
    "dateGeneration=ql.DateGeneration.Backward\n",
    "monthEnd=False\n",
    "schedule=ql.Schedule(issueDate, maturityDate, tenor,\n",
    "                    calendar, convention, convention,\n",
    "                    dateGeneration, monthEnd)\n",
    "dayCount=ql.ActualActual()\n",
    "couponRate=[0.0175]\n",
    "settlementDays=1\n",
    "faceValue=100"
   ]
  },
  {
   "cell_type": "code",
   "execution_count": 14,
   "metadata": {},
   "outputs": [],
   "source": [
    "fixedRateBond=ql.FixedRateBond(settlementDays, faceValue, schedule, couponRate, dayCount)"
   ]
  },
  {
   "cell_type": "code",
   "execution_count": 15,
   "metadata": {},
   "outputs": [],
   "source": [
    "# conduct pricing\n",
    "fixedRateBond.setPricingEngine(bondEngine)"
   ]
  },
  {
   "cell_type": "code",
   "execution_count": 16,
   "metadata": {},
   "outputs": [
    {
     "name": "stdout",
     "output_type": "stream",
     "text": [
      "Bond Price = 91.7212\n",
      " February 15th, 2023     0.661644\n",
      "   August 15th, 2023     0.867808\n",
      " February 15th, 2024     0.881602\n",
      "   August 15th, 2024     0.870219\n",
      " February 18th, 2025     0.894754\n",
      "   August 15th, 2025     0.853425\n",
      " February 17th, 2026     0.891781\n",
      "   August 17th, 2026     0.867808\n",
      " February 16th, 2027     0.877397\n",
      "   August 16th, 2027     0.867808\n",
      " February 15th, 2028     0.876808\n",
      "   August 15th, 2028     0.870219\n",
      " February 15th, 2029     0.880371\n",
      "   August 15th, 2029     0.867808\n",
      " February 15th, 2030     0.882192\n",
      "   August 15th, 2030     0.867808\n",
      " February 18th, 2031     0.896575\n",
      "   August 15th, 2031     0.853425\n",
      " February 17th, 2032     0.891165\n",
      "   August 16th, 2032     0.865437\n",
      "   August 16th, 2032   100.000000\n"
     ]
    }
   ],
   "source": [
    "# Result\n",
    "print(\"Bond Price = {}\".format(round(fixedRateBond.NPV(),4)))\n",
    "for cf in fixedRateBond.cashflows():\n",
    "    print('%20s %12f' % (cf.date(), cf.amount()))"
   ]
  },
  {
   "cell_type": "code",
   "execution_count": null,
   "metadata": {},
   "outputs": [],
   "source": []
  }
 ],
 "metadata": {
  "kernelspec": {
   "display_name": "Python 3 (ipykernel)",
   "language": "python",
   "name": "python3"
  },
  "language_info": {
   "codemirror_mode": {
    "name": "ipython",
    "version": 3
   },
   "file_extension": ".py",
   "mimetype": "text/x-python",
   "name": "python",
   "nbconvert_exporter": "python",
   "pygments_lexer": "ipython3",
   "version": "3.8.10"
  },
  "orig_nbformat": 4
 },
 "nbformat": 4,
 "nbformat_minor": 2
}
