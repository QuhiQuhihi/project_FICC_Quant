{
 "cells": [
  {
   "cell_type": "code",
   "execution_count": 1,
   "metadata": {},
   "outputs": [],
   "source": [
    "import os\n",
    "import datetime\n",
    "import numpy as np\n",
    "import pandas as pd\n",
    "\n",
    "import matplotlib.pyplot as plt\n",
    "import seaborn as sns\n",
    "\n",
    "import QuantLib as ql\n"
   ]
  },
  {
   "cell_type": "code",
   "execution_count": 2,
   "metadata": {},
   "outputs": [],
   "source": [
    "from quant_lib.swap_curve import get_quote, swap_curve"
   ]
  },
  {
   "cell_type": "code",
   "execution_count": 24,
   "metadata": {},
   "outputs": [],
   "source": [
    "class FRA():\n",
    "    def __init__(self, today, pricing_date, maturity, position, fra_rate, notional):\n",
    "        \n",
    "        # initial setup\n",
    "        self.date = today\n",
    "        # 아마 아래는 today를 넣는게 맞을 것 같은데\n",
    "        self.cuve = self.curve(self.date)\n",
    "\n",
    "        self.pricing_date = ql.Date(pricing_date.day, pricing_date.month, pricing_date.year)\n",
    "        self.maturity_date = ql.Date(maturity.day, maturity.month, maturity.year)\n",
    "\n",
    "        self.fra_rate = fra_rate\n",
    "        self.notional = notional\n",
    "\n",
    "        if position == 'long' or position == 'Long':\n",
    "            self.position = ql.Position.Long\n",
    "        else:\n",
    "            self.postion = ql.Position.Short\n",
    "\n",
    "        # pricing result\n",
    "        self.npv = self.pricing(self.curve)\n",
    "        self.delta = self.DELTA()\n",
    "        self.theta = self.THETA()\n",
    "    \n",
    "    def curve(self, date):\n",
    "        return swap_curve(date, get_quote(date))\n",
    "    \n",
    "\n",
    "    def pricing(self, curve):\n",
    "        # this method calculate FRA's theoritical price with FRA module in quantlib\n",
    "        # before floating rate is determined, price would fluctuate.\n",
    "        # so libor rate object is needed. In quantlib library, liborIndex class enables you to calculate underlying rate object\n",
    "\n",
    "        #yield term structure\n",
    "        curve_handle = ql.YieldTermStructureHandle(curve)\n",
    "\n",
    "        # floating rate\n",
    "        libor = ql.USDLibor(ql.Period(3, ql.Months), curve_handle)\n",
    "\n",
    "        # pricing FRA\n",
    "        fra = ql.ForwardRateAgreement(\n",
    "                                    self.pricing_date,\n",
    "                                    self.maturity_date,\n",
    "                                    self.position,\n",
    "                                    self.fra_rate,\n",
    "                                    self.notional.\n",
    "                                    libor,\n",
    "                                    curve_handle\n",
    "                                    )\n",
    "\n",
    "        # fra price\n",
    "        npv = fra.NPV()\n",
    "        \n",
    "        return npv\n",
    "\n",
    "    \n",
    "    def DELTA(self):\n",
    "       # delta is change in values if 1bp of interest rate curve changes\n",
    "        curve_handle = ql.YieldTermStructureHandle(self.curve)\n",
    "\n",
    "        basis_point = 0.0001\n",
    "\n",
    "        # fra price when 1bp up\n",
    "        up_curve = ql.ZeroSpreadedTermStructure(\n",
    "                                                curve_handle,\n",
    "                                                ql.QuoteHandle(ql.SimpleQuote(basis_point))\n",
    "                                                )\n",
    "        up_fra = self.pricing(up_curve)\n",
    "\n",
    "        down_curve = ql.ZeroSpreadedTermStructure(\n",
    "                                                curve_handle,\n",
    "                                                ql.QuoteHandle(ql.SimpleQuote(-basis_point))\n",
    "                                                )\n",
    "        down_fra = self.pricing(down_curve)\n",
    "\n",
    "        #DV01 \n",
    "        dv01 = (up_fra - down_fra)/2\n",
    "        \n",
    "        return dv01\n",
    "\n",
    "    def THETA(self):\n",
    "        # theta is change in value if one unit time passes.\n",
    "        # since derivative product have time value, time to maturity is major variable in pricing derivatives\n",
    "        price_t0 = self.pricing(self.curve(self.date))\n",
    "        price_t1 = self.pricing(self.date + datetime.timedelta(days=1))\n",
    "\n",
    "        return price_t1 - price_t0"
   ]
  },
  {
   "cell_type": "code",
   "execution_count": 25,
   "metadata": {},
   "outputs": [
    {
     "ename": "TypeError",
     "evalue": "Wrong number or type of arguments for overloaded function 'new_YieldTermStructureHandle'.\n  Possible C/C++ prototypes are:\n    Handle< YieldTermStructure >::Handle(ext::shared_ptr< YieldTermStructure > const &)\n    Handle< YieldTermStructure >::Handle()\n",
     "output_type": "error",
     "traceback": [
      "\u001b[0;31m---------------------------------------------------------------------------\u001b[0m",
      "\u001b[0;31mTypeError\u001b[0m                                 Traceback (most recent call last)",
      "Cell \u001b[0;32mIn [25], line 9\u001b[0m\n\u001b[1;32m      6\u001b[0m fra_rate \u001b[39m=\u001b[39m \u001b[39m0.0022\u001b[39m\n\u001b[1;32m      7\u001b[0m notional \u001b[39m=\u001b[39m \u001b[39m1000000\u001b[39m\n\u001b[0;32m----> 9\u001b[0m fra \u001b[39m=\u001b[39m FRA(\n\u001b[1;32m     10\u001b[0m     today\u001b[39m=\u001b[39mtodays_date,\n\u001b[1;32m     11\u001b[0m     pricing_date\u001b[39m=\u001b[39mpricing_date,\n\u001b[1;32m     12\u001b[0m     maturity\u001b[39m=\u001b[39mmaturity_date,\n\u001b[1;32m     13\u001b[0m     position\u001b[39m=\u001b[39mposition,\n\u001b[1;32m     14\u001b[0m     fra_rate\u001b[39m=\u001b[39mfra_rate,\n\u001b[1;32m     15\u001b[0m     notional\u001b[39m=\u001b[39mnotional\n\u001b[1;32m     16\u001b[0m )\n",
      "Cell \u001b[0;32mIn [24], line 21\u001b[0m, in \u001b[0;36mFRA.__init__\u001b[0;34m(self, today, pricing_date, maturity, position, fra_rate, notional)\u001b[0m\n\u001b[1;32m     18\u001b[0m     \u001b[39mself\u001b[39m\u001b[39m.\u001b[39mpostion \u001b[39m=\u001b[39m ql\u001b[39m.\u001b[39mPosition\u001b[39m.\u001b[39mShort\n\u001b[1;32m     20\u001b[0m \u001b[39m# pricing result\u001b[39;00m\n\u001b[0;32m---> 21\u001b[0m \u001b[39mself\u001b[39m\u001b[39m.\u001b[39mnpv \u001b[39m=\u001b[39m \u001b[39mself\u001b[39;49m\u001b[39m.\u001b[39;49mpricing(\u001b[39mself\u001b[39;49m\u001b[39m.\u001b[39;49mcurve)\n\u001b[1;32m     22\u001b[0m \u001b[39mself\u001b[39m\u001b[39m.\u001b[39mdelta \u001b[39m=\u001b[39m \u001b[39mself\u001b[39m\u001b[39m.\u001b[39mDELTA()\n\u001b[1;32m     23\u001b[0m \u001b[39mself\u001b[39m\u001b[39m.\u001b[39mtheta \u001b[39m=\u001b[39m \u001b[39mself\u001b[39m\u001b[39m.\u001b[39mTHETA()\n",
      "Cell \u001b[0;32mIn [24], line 35\u001b[0m, in \u001b[0;36mFRA.pricing\u001b[0;34m(self, curve)\u001b[0m\n\u001b[1;32m     29\u001b[0m \u001b[39mdef\u001b[39;00m \u001b[39mpricing\u001b[39m(\u001b[39mself\u001b[39m, curve):\n\u001b[1;32m     30\u001b[0m     \u001b[39m# this method calculate FRA's theoritical price with FRA module in quantlib\u001b[39;00m\n\u001b[1;32m     31\u001b[0m     \u001b[39m# before floating rate is determined, price would fluctuate.\u001b[39;00m\n\u001b[1;32m     32\u001b[0m     \u001b[39m# so libor rate object is needed. In quantlib library, liborIndex class enables you to calculate underlying rate object\u001b[39;00m\n\u001b[1;32m     33\u001b[0m \n\u001b[1;32m     34\u001b[0m     \u001b[39m#yield term structure\u001b[39;00m\n\u001b[0;32m---> 35\u001b[0m     curve_handle \u001b[39m=\u001b[39m ql\u001b[39m.\u001b[39;49mYieldTermStructureHandle(curve)\n\u001b[1;32m     37\u001b[0m     \u001b[39m# floating rate\u001b[39;00m\n\u001b[1;32m     38\u001b[0m     libor \u001b[39m=\u001b[39m ql\u001b[39m.\u001b[39mUSDLibor(ql\u001b[39m.\u001b[39mPeriod(\u001b[39m3\u001b[39m, ql\u001b[39m.\u001b[39mMonths), curve_handle)\n",
      "File \u001b[0;32m~/miniconda3/envs/ficc/lib/python3.8/site-packages/QuantLib/QuantLib.py:5666\u001b[0m, in \u001b[0;36mYieldTermStructureHandle.__init__\u001b[0;34m(self, *args)\u001b[0m\n\u001b[1;32m   5665\u001b[0m \u001b[39mdef\u001b[39;00m \u001b[39m__init__\u001b[39m(\u001b[39mself\u001b[39m, \u001b[39m*\u001b[39margs):\n\u001b[0;32m-> 5666\u001b[0m     _QuantLib\u001b[39m.\u001b[39mYieldTermStructureHandle_swiginit(\u001b[39mself\u001b[39m, _QuantLib\u001b[39m.\u001b[39;49mnew_YieldTermStructureHandle(\u001b[39m*\u001b[39;49margs))\n",
      "\u001b[0;31mTypeError\u001b[0m: Wrong number or type of arguments for overloaded function 'new_YieldTermStructureHandle'.\n  Possible C/C++ prototypes are:\n    Handle< YieldTermStructure >::Handle(ext::shared_ptr< YieldTermStructure > const &)\n    Handle< YieldTermStructure >::Handle()\n"
     ]
    }
   ],
   "source": [
    "todays_date = datetime.date(2021, 10, 9)\n",
    "pricing_date = datetime.date(2022, 1, 9)\n",
    "maturity_date = datetime.date(2022, 4, 9)\n",
    "\n",
    "position = 'long'\n",
    "fra_rate = 0.0022\n",
    "notional = 1000000\n",
    "\n",
    "fra = FRA(\n",
    "    today=todays_date,\n",
    "    pricing_date=pricing_date,\n",
    "    maturity=maturity_date,\n",
    "    position=position,\n",
    "    fra_rate=fra_rate,\n",
    "    notional=notional\n",
    ")"
   ]
  },
  {
   "cell_type": "code",
   "execution_count": 10,
   "metadata": {},
   "outputs": [
    {
     "name": "stdout",
     "output_type": "stream",
     "text": [
      "price of FRA = <bound method FRA.pricing of <__main__.FRA object at 0x7f3d43de2f10>>\n",
      "delta of FRA = <bound method FRA.delta of <__main__.FRA object at 0x7f3d43de2f10>>\n",
      "theta of FRA = <bound method FRA.theta of <__main__.FRA object at 0x7f3d43de2f10>>\n"
     ]
    }
   ],
   "source": [
    "print(\"price of FRA = {}\".format(fra.npv))\n",
    "print(\"delta of FRA = {}\".format(fra.delta))\n",
    "print(\"theta of FRA = {}\".format(fra.theta))"
   ]
  },
  {
   "cell_type": "code",
   "execution_count": null,
   "metadata": {},
   "outputs": [],
   "source": []
  }
 ],
 "metadata": {
  "kernelspec": {
   "display_name": "Python 3.8.13 ('ficc')",
   "language": "python",
   "name": "python3"
  },
  "language_info": {
   "codemirror_mode": {
    "name": "ipython",
    "version": 3
   },
   "file_extension": ".py",
   "mimetype": "text/x-python",
   "name": "python",
   "nbconvert_exporter": "python",
   "pygments_lexer": "ipython3",
   "version": "3.8.13"
  },
  "orig_nbformat": 4,
  "vscode": {
   "interpreter": {
    "hash": "83e67ead297887cf4681aabdd4139a58e8981f88e12ca615f7aa3bb29e6223c9"
   }
  }
 },
 "nbformat": 4,
 "nbformat_minor": 2
}
