{
 "cells": [
  {
   "cell_type": "code",
   "execution_count": 1,
   "metadata": {},
   "outputs": [],
   "source": [
    "import os\n",
    "import datetime\n",
    "import numpy as np\n",
    "import pandas as pd\n",
    "\n",
    "import QuantLib as ql"
   ]
  },
  {
   "cell_type": "code",
   "execution_count": 2,
   "metadata": {},
   "outputs": [],
   "source": [
    "from quant_lib.swap_curve import get_quote, swap_curve"
   ]
  },
  {
   "cell_type": "code",
   "execution_count": 38,
   "metadata": {},
   "outputs": [],
   "source": [
    "class FRA():\n",
    "    def __init__(self, today, pricing_date, maturity, position, fra_rate, notional):\n",
    "        \n",
    "        # initial setup\n",
    "        self.date = today\n",
    "        self.curve = self.CURVE(self.date)\n",
    "\n",
    "        self.pricing_date = ql.Date(pricing_date.day, pricing_date.month, pricing_date.year)\n",
    "        self.maturity_date = ql.Date(maturity.day, maturity.month, maturity.year)\n",
    "\n",
    "        self.fra_rate = fra_rate\n",
    "        self.notional = notional\n",
    "\n",
    "        if position == 'long' or position == 'Long':\n",
    "            self.position = ql.Position.Long\n",
    "        else:\n",
    "            self.postion = ql.Position.Short\n",
    "\n",
    "        # pricing result\n",
    "        self.npv = self.PRICING(self.curve)\n",
    "        self.delta = self.DELTA()\n",
    "        self.theta = self.THETA()\n",
    "    \n",
    "    def CURVE(self, date):\n",
    "        return swap_curve(date, get_quote(date))\n",
    "    \n",
    "\n",
    "    def PRICING(self, curve):\n",
    "        # this method calculate FRA's theoritical price with FRA module in quantlib\n",
    "        # before floating rate is determined, price would fluctuate.\n",
    "        # so libor rate object is needed. In quantlib library, liborIndex class enables you to calculate underlying rate object\n",
    "\n",
    "        #yield term structure\n",
    "        curve_handle = ql.YieldTermStructureHandle(curve)\n",
    "\n",
    "        # floating rate\n",
    "        libor = ql.USDLibor(ql.Period(3, ql.Months), curve_handle)\n",
    "\n",
    "        # pricing FRA\n",
    "        fra = ql.ForwardRateAgreement(\n",
    "                                    self.pricing_date,\n",
    "                                    self.maturity_date,\n",
    "                                    self.position,\n",
    "                                    self.fra_rate,\n",
    "                                    self.notional,\n",
    "                                    libor,\n",
    "                                    curve_handle\n",
    "                                    )\n",
    "\n",
    "        # fra price\n",
    "        npv = fra.NPV()\n",
    "        \n",
    "        return npv\n",
    "\n",
    "    \n",
    "    def DELTA(self):\n",
    "       # delta is change in values if 1bp of interest rate curve changes\n",
    "        curve_handle = ql.YieldTermStructureHandle(self.curve)\n",
    "\n",
    "        basis_point = 0.0001\n",
    "\n",
    "        # fra price when 1bp up\n",
    "        up_curve = ql.ZeroSpreadedTermStructure(\n",
    "                                                curve_handle,\n",
    "                                                ql.QuoteHandle(ql.SimpleQuote(basis_point))\n",
    "                                                )\n",
    "        up_fra = self.PRICING(up_curve)\n",
    "\n",
    "        down_curve = ql.ZeroSpreadedTermStructure(\n",
    "                                                curve_handle,\n",
    "                                                ql.QuoteHandle(ql.SimpleQuote(-basis_point))\n",
    "                                                )\n",
    "        down_fra = self.PRICING(down_curve)\n",
    "\n",
    "        #DV01 \n",
    "        dv01 = (up_fra - down_fra)/2\n",
    "        \n",
    "        return dv01\n",
    "\n",
    "    def THETA(self):\n",
    "        # theta is change in value if one unit time passes.\n",
    "        # in here, unit time is 1 day\n",
    "        # since derivative product have time value, time to maturity is major variable in pricing derivatives\n",
    "        price_t0 = self.PRICING(self.CURVE(self.date))\n",
    "        price_t1 = self.PRICING(self.CURVE(self.date + datetime.timedelta(days=1)))\n",
    "\n",
    "        return price_t1 - price_t0"
   ]
  },
  {
   "cell_type": "code",
   "execution_count": 39,
   "metadata": {},
   "outputs": [],
   "source": [
    "todays_date = datetime.date(2020, 10, 9)\n",
    "pricing_date = datetime.date(2021, 1, 9)\n",
    "maturity_date = datetime.date(2021, 4, 9)"
   ]
  },
  {
   "cell_type": "code",
   "execution_count": 40,
   "metadata": {},
   "outputs": [],
   "source": [
    "position = 'long'\n",
    "fra_rate = 0.0022\n",
    "notional = 1000000\n",
    "\n",
    "fra = FRA(\n",
    "    today=todays_date,\n",
    "    pricing_date=pricing_date,\n",
    "    maturity=maturity_date,\n",
    "    position=position,\n",
    "    fra_rate=fra_rate,\n",
    "    notional=notional\n",
    ")"
   ]
  },
  {
   "cell_type": "code",
   "execution_count": 41,
   "metadata": {},
   "outputs": [
    {
     "name": "stdout",
     "output_type": "stream",
     "text": [
      "price of FRA = 10.737034599684637\n",
      "delta of FRA = 24.985223868185173\n",
      "theta of FRA = -2.3644316059173835\n"
     ]
    }
   ],
   "source": [
    "print(\"price of FRA = {}\".format(fra.npv))\n",
    "print(\"delta of FRA = {}\".format(fra.delta))\n",
    "print(\"theta of FRA = {}\".format(fra.theta))"
   ]
  },
  {
   "cell_type": "code",
   "execution_count": null,
   "metadata": {},
   "outputs": [],
   "source": []
  }
 ],
 "metadata": {
  "kernelspec": {
   "display_name": "Python 3.8.13 ('ficc')",
   "language": "python",
   "name": "python3"
  },
  "language_info": {
   "codemirror_mode": {
    "name": "ipython",
    "version": 3
   },
   "file_extension": ".py",
   "mimetype": "text/x-python",
   "name": "python",
   "nbconvert_exporter": "python",
   "pygments_lexer": "ipython3",
   "version": "3.8.13"
  },
  "orig_nbformat": 4,
  "vscode": {
   "interpreter": {
    "hash": "83e67ead297887cf4681aabdd4139a58e8981f88e12ca615f7aa3bb29e6223c9"
   }
  }
 },
 "nbformat": 4,
 "nbformat_minor": 2
}
