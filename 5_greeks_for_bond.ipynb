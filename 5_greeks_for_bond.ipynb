{
 "cells": [
  {
   "cell_type": "code",
   "execution_count": 2,
   "metadata": {},
   "outputs": [],
   "source": [
    "import numpy as np\n",
    "import pandas as pd\n",
    "import matplotlib.pyplot as plt\n",
    "import datetime\n",
    "import requests\n",
    "\n",
    "from bs4 import BeautifulSoup\n",
    "import QuantLib as ql"
   ]
  },
  {
   "cell_type": "code",
   "execution_count": 3,
   "metadata": {},
   "outputs": [],
   "source": [
    "from quant_lib import curve as cv"
   ]
  },
  {
   "cell_type": "markdown",
   "metadata": {},
   "source": [
    "## Calculating Bond Price, Duration, Convexity\n",
    "\n",
    "##### $ V = Pe^{-y(T-t)} + \\sum_{i=1}^{T} C_i e^{-y(t_i - t)} $\n",
    "\n",
    "where, $V$ is bond price, $P$ is notional amount, $y$ is market interest rate, $N$ is number of coupon payment, $C_i$ is $i_{th}$ coupon payment amount \n",
    "\n",
    "##### $ Duration = -\\frac{1}{V(y)} \\frac{dy}{dV}$\n",
    "this is modifed Duration (different from Macaulay Duration)   \n",
    "\n",
    "##### $ Convexity = \\frac{1}{V(y)} \\frac{d y^2}{d^2 V}$"
   ]
  },
  {
   "cell_type": "code",
   "execution_count": 4,
   "metadata": {},
   "outputs": [
    {
     "name": "stdout",
     "output_type": "stream",
     "text": [
      "             days  price coupon\n",
      "maturity                       \n",
      "2022-11-08     33  2.975    0.0\n",
      "2023-01-05     91  3.263    0.0\n",
      "2023-04-06    182  4.043    0.0\n",
      "2023-10-05    364  4.216    0.0\n",
      "2024-09-30    725  4.283   4.25\n",
      "2025-09-15   1075  4.307    3.5\n",
      "2027-09-30   1820  4.104  4.125\n",
      "2029-09-30   2551  3.995  3.875\n",
      "2032-08-15   3601  3.848   2.75\n",
      "2052-08-15  10906  3.798    3.0\n",
      "<QuantLib.QuantLib.PiecewiseLinearZero; proxy of <Swig Object of type 'ext::shared_ptr< PiecewiseLinearZero > *' at 0x7f94bceefdb0> >\n"
     ]
    }
   ],
   "source": [
    "ref_date = cv.get_date()\n",
    "quote = cv.get_quote(ref_date)\n",
    "print(quote)\n",
    "curve = cv.treasury_curve(ref_date, quote)\n",
    "print(curve)"
   ]
  },
  {
   "cell_type": "code",
   "execution_count": 5,
   "metadata": {},
   "outputs": [],
   "source": [
    "# convert into Engine\n",
    "spotCurveHandle = ql.YieldTermStructureHandle(curve)\n",
    "bondEngine = ql.DiscountingBondEngine(spotCurveHandle)"
   ]
  },
  {
   "cell_type": "code",
   "execution_count": 9,
   "metadata": {},
   "outputs": [],
   "source": [
    "# Treasury Bond Specifiction\n",
    "issueDate = ql.Date(2,10,2022)\n",
    "maturityDate = ql.Date(2,10,2032)\n",
    "tenor = ql.Period(ql.Semiannual)\n",
    "calendar = ql.UnitedStates()\n",
    "convention = ql.ModifiedFollowing\n",
    "dateGeneration = ql.DateGeneration.Backward\n",
    "monthEnd = False\n",
    "schedule = ql.Schedule(\n",
    "                issueDate,\n",
    "                maturityDate,\n",
    "                tenor,\n",
    "                calendar,\n",
    "                convention,\n",
    "                convention,\n",
    "                dateGeneration,\n",
    "                monthEnd\n",
    "                    )\n",
    "dayCount = ql.ActualActual()\n",
    "couponRate = [0.02]\n",
    "settlementDays = 1\n",
    "faceValue = 100"
   ]
  },
  {
   "cell_type": "code",
   "execution_count": 10,
   "metadata": {},
   "outputs": [],
   "source": [
    "# set Fixed Rate bond pricing engine\n",
    "fixedRateBond = ql.FixedRateBond(\n",
    "    settlementDays,\n",
    "    faceValue,\n",
    "    schedule,\n",
    "    couponRate,\n",
    "    dayCount\n",
    ")\n",
    "\n",
    "# Conduct bond pricing\n",
    "fixedRateBond.setPricingEngine(bondEngine)"
   ]
  },
  {
   "cell_type": "code",
   "execution_count": 11,
   "metadata": {},
   "outputs": [],
   "source": [
    "# calculate YTM\n",
    "targetPrice = fixedRateBond.cleanPrice()\n",
    "ytm = ql.InterestRate(\n",
    "    fixedRateBond.bondYield(targetPrice, dayCount, ql.Compounded, ql.Semiannual),\n",
    "    dayCount,\n",
    "    ql.Compounded,\n",
    "    ql.Semiannual\n",
    ")"
   ]
  },
  {
   "cell_type": "code",
   "execution_count": 15,
   "metadata": {},
   "outputs": [
    {
     "name": "stdout",
     "output_type": "stream",
     "text": [
      "Yield to maturity = 0.0272\n",
      "Duration = 8.9461\n",
      "Duration = 89.5908\n"
     ]
    }
   ],
   "source": [
    "print(\"Yield to maturity = {:.4f}\".format(ytm.rate()))\n",
    "print(\"Duration = {:.4f}\".format(ql.BondFunctions.duration(fixedRateBond, ytm)))\n",
    "print(\"Duration = {:.4f}\".format(ql.BondFunctions.convexity(fixedRateBond, ytm)))\n"
   ]
  },
  {
   "cell_type": "code",
   "execution_count": null,
   "metadata": {},
   "outputs": [],
   "source": []
  }
 ],
 "metadata": {
  "kernelspec": {
   "display_name": "Python 3.8.13 ('ficc')",
   "language": "python",
   "name": "python3"
  },
  "language_info": {
   "codemirror_mode": {
    "name": "ipython",
    "version": 3
   },
   "file_extension": ".py",
   "mimetype": "text/x-python",
   "name": "python",
   "nbconvert_exporter": "python",
   "pygments_lexer": "ipython3",
   "version": "3.8.13"
  },
  "orig_nbformat": 4,
  "vscode": {
   "interpreter": {
    "hash": "83e67ead297887cf4681aabdd4139a58e8981f88e12ca615f7aa3bb29e6223c9"
   }
  }
 },
 "nbformat": 4,
 "nbformat_minor": 2
}
